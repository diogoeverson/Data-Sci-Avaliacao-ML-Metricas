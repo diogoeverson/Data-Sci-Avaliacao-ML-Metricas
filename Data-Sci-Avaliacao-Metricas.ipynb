{
 "cells": [
  {
   "cell_type": "markdown",
   "metadata": {},
   "source": [
    "# Baseado em: https://machinelearningmastery.com/metrics-evaluate-machine-learning-algorithms-python/"
   ]
  },
  {
   "cell_type": "code",
   "execution_count": 30,
   "metadata": {},
   "outputs": [],
   "source": [
    "import pandas as pd\n",
    "from sklearn import model_selection\n",
    "from sklearn.linear_model import LogisticRegression\n",
    "from sklearn.metrics import confusion_matrix\n",
    "from sklearn.metrics import classification_report\n",
    "import warnings\n",
    "warnings.filterwarnings(\"ignore\")"
   ]
  },
  {
   "cell_type": "code",
   "execution_count": 17,
   "metadata": {},
   "outputs": [],
   "source": [
    "df = pd.read_csv('automobile_data.csv')"
   ]
  },
  {
   "cell_type": "code",
   "execution_count": 18,
   "metadata": {},
   "outputs": [],
   "source": [
    "#movendo a variável target para a extrema direita do dataset\n",
    "column_names = ['symboling', 'normalized-losses', 'make', 'fuel-type',\n",
    "       'num-of-doors', 'body-style', 'drive-wheels', 'engine-location',\n",
    "       'wheel-base', 'length', 'width', 'height', 'curb-weight', 'engine-type',\n",
    "       'num-of-cylinders', 'engine-size', 'fuel-system', 'bore', 'stroke',\n",
    "       'compression-ratio', 'horsepower', 'peak-rpm', 'city-mpg',\n",
    "       'highway-mpg', 'price', 'aspiration']\n",
    "\n",
    "df = df.reindex(columns=column_names)"
   ]
  },
  {
   "cell_type": "code",
   "execution_count": 19,
   "metadata": {},
   "outputs": [],
   "source": [
    "#separando variáveis preditoras da target\n",
    "X = df.iloc[:,:-1]\n",
    "y = df['aspiration'].values"
   ]
  },
  {
   "cell_type": "code",
   "execution_count": 20,
   "metadata": {},
   "outputs": [],
   "source": [
    "#loop que percorre lista de colunas categóricas que terão valores por categoria convertidas em número \n",
    "X = X.astype(str)\n",
    "novo_valor_numerico = 0\n",
    "i = 0\n",
    "for x in X.columns:\n",
    "    for z in X[x].drop_duplicates():        \n",
    "        X[x].replace({z: str(i)}, inplace=True)\n",
    "        i+=1\n",
    "    i = 0\n",
    "X = X.astype(int)"
   ]
  },
  {
   "cell_type": "code",
   "execution_count": 21,
   "metadata": {},
   "outputs": [],
   "source": [
    "# Divisão em dados de treino e de teste\n",
    "from sklearn.model_selection import train_test_split\n",
    "X_train, X_test, y_train, y_test = train_test_split(X, y, test_size=0.2)"
   ]
  },
  {
   "cell_type": "markdown",
   "metadata": {},
   "source": [
    "# Métricas de Classificação"
   ]
  },
  {
   "cell_type": "code",
   "execution_count": 25,
   "metadata": {},
   "outputs": [
    {
     "name": "stdout",
     "output_type": "stream",
     "text": [
      "Accuracy:\n",
      "0.8390243902439025\n"
     ]
    }
   ],
   "source": [
    "# Cross Validation Classification Accuracy\n",
    "#Proporção de previsões corretas \n",
    "#A distribuiçao de classes a prever devem estar baleanceadas pois erros e acertos tem mesmo peso no resultado\n",
    "model = LogisticRegression()\n",
    "scoring = 'accuracy'\n",
    "results = model_selection.cross_val_score(model, X, y, scoring=scoring)\n",
    "print('Accuracy:') \n",
    "print(results.mean())"
   ]
  },
  {
   "cell_type": "code",
   "execution_count": 24,
   "metadata": {},
   "outputs": [
    {
     "name": "stdout",
     "output_type": "stream",
     "text": [
      "Logloss:\n",
      "-0.5790082168224145\n"
     ]
    }
   ],
   "source": [
    "#Log Loss\n",
    "#Probabilidade da previsão\n",
    "#kfold = model_selection.KFold(n_splits=10)\n",
    "model = LogisticRegression()\n",
    "scoring = 'neg_log_loss'\n",
    "#results = model_selection.cross_val_score(model, X, y, cv=kfold, scoring=scoring)\n",
    "results = model_selection.cross_val_score(model, X, y, scoring=scoring)\n",
    "print(\"Logloss:\")\n",
    "print(results.mean())"
   ]
  },
  {
   "cell_type": "code",
   "execution_count": 27,
   "metadata": {},
   "outputs": [
    {
     "name": "stdout",
     "output_type": "stream",
     "text": [
      "AUC:\n",
      "0.7970142602495544\n"
     ]
    }
   ],
   "source": [
    "# Cross Validation Classification ROC AUC\n",
    "#Habilidade do modelo em discriminar positivo de negativo. 1.0 são previsões perfeitas e 0.5 tão bom quanto randomico.\n",
    "model = LogisticRegression()\n",
    "scoring = 'roc_auc'\n",
    "results = model_selection.cross_val_score(model, X, y, scoring=scoring)\n",
    "print(\"AUC:\") \n",
    "print(results.mean())"
   ]
  },
  {
   "cell_type": "code",
   "execution_count": 29,
   "metadata": {},
   "outputs": [
    {
     "name": "stdout",
     "output_type": "stream",
     "text": [
      "[[30  3]\n",
      " [ 3  5]]\n"
     ]
    }
   ],
   "source": [
    "# Cross Validation Classification Confusion Matrix\n",
    "#  \t\t\tevent\t\t\tno-event\n",
    "#event\t\ttrue positive\t\tfalse positive\n",
    "#no-event\tfalse negative\t\ttrue negative\n",
    "model = LogisticRegression()\n",
    "model.fit(X_train, y_train)\n",
    "predicted = model.predict(X_test)\n",
    "matrix = confusion_matrix(y_test, predicted)\n",
    "print(matrix)"
   ]
  },
  {
   "cell_type": "code",
   "execution_count": 31,
   "metadata": {},
   "outputs": [
    {
     "name": "stdout",
     "output_type": "stream",
     "text": [
      "              precision    recall  f1-score   support\n",
      "\n",
      "         std       0.91      0.91      0.91        33\n",
      "       turbo       0.62      0.62      0.62         8\n",
      "\n",
      "    accuracy                           0.85        41\n",
      "   macro avg       0.77      0.77      0.77        41\n",
      "weighted avg       0.85      0.85      0.85        41\n",
      "\n"
     ]
    }
   ],
   "source": [
    "# Cross Validation Classification Report\n",
    "model = LogisticRegression()\n",
    "model.fit(X_train, y_train)\n",
    "predicted = model.predict(X_test)\n",
    "report = classification_report(y_test, predicted)\n",
    "print(report)"
   ]
  },
  {
   "cell_type": "code",
   "execution_count": null,
   "metadata": {},
   "outputs": [],
   "source": []
  }
 ],
 "metadata": {
  "kernelspec": {
   "display_name": "Python 3",
   "language": "python",
   "name": "python3"
  },
  "language_info": {
   "codemirror_mode": {
    "name": "ipython",
    "version": 3
   },
   "file_extension": ".py",
   "mimetype": "text/x-python",
   "name": "python",
   "nbconvert_exporter": "python",
   "pygments_lexer": "ipython3",
   "version": "3.6.5"
  }
 },
 "nbformat": 4,
 "nbformat_minor": 4
}
