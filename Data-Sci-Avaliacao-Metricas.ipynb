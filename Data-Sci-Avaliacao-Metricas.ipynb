{
 "cells": [
  {
   "cell_type": "markdown",
   "metadata": {},
   "source": [
    "# Baseado em: https://machinelearningmastery.com/metrics-evaluate-machine-learning-algorithms-python/"
   ]
  },
  {
   "cell_type": "code",
   "execution_count": 43,
   "metadata": {},
   "outputs": [],
   "source": [
    "import pandas as pd\n",
    "from sklearn.linear_model import LogisticRegression\n",
    "from sklearn.linear_model import LinearRegression\n",
    "from sklearn import model_selection\n",
    "from sklearn.metrics import confusion_matrix\n",
    "from sklearn.metrics import classification_report\n",
    "import numpy as np\n",
    "import matplotlib.pyplot as plt\n",
    "from matplotlib import pylab\n",
    "from sklearn.cluster import KMeans\n",
    "from sklearn.metrics import homogeneity_completeness_v_measure\n",
    "import warnings\n",
    "warnings.filterwarnings(\"ignore\")\n",
    "%matplotlib inline"
   ]
  },
  {
   "cell_type": "code",
   "execution_count": 17,
   "metadata": {},
   "outputs": [],
   "source": [
    "df = pd.read_csv('automobile_data.csv')"
   ]
  },
  {
   "cell_type": "code",
   "execution_count": 18,
   "metadata": {},
   "outputs": [],
   "source": [
    "#movendo a variável target para a extrema direita do dataset\n",
    "column_names = ['symboling', 'normalized-losses', 'make', 'fuel-type',\n",
    "       'num-of-doors', 'body-style', 'drive-wheels', 'engine-location',\n",
    "       'wheel-base', 'length', 'width', 'height', 'curb-weight', 'engine-type',\n",
    "       'num-of-cylinders', 'engine-size', 'fuel-system', 'bore', 'stroke',\n",
    "       'compression-ratio', 'horsepower', 'peak-rpm', 'city-mpg',\n",
    "       'highway-mpg', 'price', 'aspiration']\n",
    "\n",
    "df = df.reindex(columns=column_names)"
   ]
  },
  {
   "cell_type": "code",
   "execution_count": 19,
   "metadata": {},
   "outputs": [],
   "source": [
    "#separando variáveis preditoras da target\n",
    "X = df.iloc[:,:-1]\n",
    "y = df['aspiration'].values"
   ]
  },
  {
   "cell_type": "code",
   "execution_count": 20,
   "metadata": {},
   "outputs": [],
   "source": [
    "#loop que percorre lista de colunas categóricas que terão valores por categoria convertidas em número \n",
    "X = X.astype(str)\n",
    "novo_valor_numerico = 0\n",
    "i = 0\n",
    "for x in X.columns:\n",
    "    for z in X[x].drop_duplicates():        \n",
    "        X[x].replace({z: str(i)}, inplace=True)\n",
    "        i+=1\n",
    "    i = 0\n",
    "X = X.astype(int)"
   ]
  },
  {
   "cell_type": "code",
   "execution_count": 21,
   "metadata": {},
   "outputs": [],
   "source": [
    "# Divisão em dados de treino e de teste\n",
    "from sklearn.model_selection import train_test_split\n",
    "X_train, X_test, y_train, y_test = train_test_split(X, y, test_size=0.2)"
   ]
  },
  {
   "cell_type": "markdown",
   "metadata": {},
   "source": [
    "# Métricas de Classificação"
   ]
  },
  {
   "cell_type": "code",
   "execution_count": 25,
   "metadata": {},
   "outputs": [
    {
     "name": "stdout",
     "output_type": "stream",
     "text": [
      "Accuracy:\n",
      "0.8390243902439025\n"
     ]
    }
   ],
   "source": [
    "# Cross Validation Classification Accuracy\n",
    "#Proporção de previsões corretas \n",
    "#A distribuiçao de classes a prever devem estar baleanceadas pois erros e acertos tem mesmo peso no resultado\n",
    "model = LogisticRegression()\n",
    "scoring = 'accuracy'\n",
    "results = model_selection.cross_val_score(model, X, y, scoring=scoring)\n",
    "print('Accuracy:') \n",
    "print(results.mean())"
   ]
  },
  {
   "cell_type": "code",
   "execution_count": 24,
   "metadata": {},
   "outputs": [
    {
     "name": "stdout",
     "output_type": "stream",
     "text": [
      "Logloss:\n",
      "-0.5790082168224145\n"
     ]
    }
   ],
   "source": [
    "#Log Loss\n",
    "#Probabilidade da previsão\n",
    "#kfold = model_selection.KFold(n_splits=10)\n",
    "model = LogisticRegression()\n",
    "scoring = 'neg_log_loss'\n",
    "#results = model_selection.cross_val_score(model, X, y, cv=kfold, scoring=scoring)\n",
    "results = model_selection.cross_val_score(model, X, y, scoring=scoring)\n",
    "print(\"Logloss:\")\n",
    "print(results.mean())"
   ]
  },
  {
   "cell_type": "code",
   "execution_count": 27,
   "metadata": {},
   "outputs": [
    {
     "name": "stdout",
     "output_type": "stream",
     "text": [
      "AUC:\n",
      "0.7970142602495544\n"
     ]
    }
   ],
   "source": [
    "# Cross Validation Classification ROC AUC\n",
    "#Habilidade do modelo em discriminar positivo de negativo. 1.0 são previsões perfeitas e 0.5 tão bom quanto randomico.\n",
    "model = LogisticRegression()\n",
    "scoring = 'roc_auc'\n",
    "results = model_selection.cross_val_score(model, X, y, scoring=scoring)\n",
    "print(\"AUC:\") \n",
    "print(results.mean())"
   ]
  },
  {
   "cell_type": "code",
   "execution_count": 29,
   "metadata": {},
   "outputs": [
    {
     "name": "stdout",
     "output_type": "stream",
     "text": [
      "[[30  3]\n",
      " [ 3  5]]\n"
     ]
    }
   ],
   "source": [
    "# Cross Validation Classification Confusion Matrix\n",
    "#  \t\t\tevent\t\t\tno-event\n",
    "#event\t\ttrue positive\t\tfalse positive\n",
    "#no-event\tfalse negative\t\ttrue negative\n",
    "model = LogisticRegression()\n",
    "model.fit(X_train, y_train)\n",
    "predicted = model.predict(X_test)\n",
    "matrix = confusion_matrix(y_test, predicted)\n",
    "print(matrix)"
   ]
  },
  {
   "cell_type": "code",
   "execution_count": 31,
   "metadata": {},
   "outputs": [
    {
     "name": "stdout",
     "output_type": "stream",
     "text": [
      "              precision    recall  f1-score   support\n",
      "\n",
      "         std       0.91      0.91      0.91        33\n",
      "       turbo       0.62      0.62      0.62         8\n",
      "\n",
      "    accuracy                           0.85        41\n",
      "   macro avg       0.77      0.77      0.77        41\n",
      "weighted avg       0.85      0.85      0.85        41\n",
      "\n"
     ]
    }
   ],
   "source": [
    "# Cross Validation Classification Report\n",
    "model = LogisticRegression()\n",
    "model.fit(X_train, y_train)\n",
    "predicted = model.predict(X_test)\n",
    "report = classification_report(y_test, predicted)\n",
    "print(report)"
   ]
  },
  {
   "cell_type": "markdown",
   "metadata": {},
   "source": [
    "# Métricas de Regressão"
   ]
  },
  {
   "cell_type": "code",
   "execution_count": 37,
   "metadata": {},
   "outputs": [],
   "source": [
    "#target não é mais a classe aspiration mas valores continuos. Preço.\n",
    "df = pd.read_csv('automobile_data.csv')\n",
    "\n",
    "df = df.drop(df[df.price  == '?'].index)\n",
    "\n",
    "X = df.iloc[:,:-1]\n",
    "y = df['price'].values.astype(float)\n",
    "\n",
    "#loop que percorre lista de colunas categóricas que terão valores por categoria convertidas em número \n",
    "X = X.astype(str)\n",
    "novo_valor_numerico = 0\n",
    "i = 0\n",
    "for x in X.columns:\n",
    "    for z in X[x].drop_duplicates():        \n",
    "        X[x].replace({z: str(i)}, inplace=True)\n",
    "        i+=1\n",
    "    i = 0\n",
    "X = X.astype(int)"
   ]
  },
  {
   "cell_type": "code",
   "execution_count": 38,
   "metadata": {},
   "outputs": [
    {
     "name": "stdout",
     "output_type": "stream",
     "text": [
      "MAE: \n",
      "-5372.2176427145905\n"
     ]
    }
   ],
   "source": [
    "# Cross Validation Regression MAE(mean absolute error)\n",
    "#média absolutas da diferença entre as previsões e valores reais\n",
    "#quão errado ocorreram as previsões\n",
    "#zero significa que não houve erro\n",
    "model = LinearRegression()\n",
    "scoring = 'neg_mean_absolute_error'\n",
    "results = model_selection.cross_val_score(model, X, y, scoring=scoring)\n",
    "print(\"MAE: \")\n",
    "print(results.mean())"
   ]
  },
  {
   "cell_type": "code",
   "execution_count": 42,
   "metadata": {},
   "outputs": [
    {
     "name": "stdout",
     "output_type": "stream",
     "text": [
      "R^2:\n",
      "-0.5408432692057035\n"
     ]
    }
   ],
   "source": [
    "# Cross Validation Regression R^2 - R Squared\n",
    "#coeficiente de determinação\n",
    "#valores entre 0 e 1 onde 1 é o fit perfeito\n",
    "model = LinearRegression()\n",
    "scoring = 'r2'\n",
    "results = model_selection.cross_val_score(model, X, y, scoring=scoring)\n",
    "print('R^2:')\n",
    "print(results.mean())"
   ]
  },
  {
   "cell_type": "markdown",
   "metadata": {},
   "source": [
    "# Métricas de Clusterização - Aprendizagem não supervisionada"
   ]
  },
  {
   "cell_type": "code",
   "execution_count": 44,
   "metadata": {},
   "outputs": [
    {
     "data": {
      "image/png": "[encoded data removed]",
      "text/plain": [
       "<Figure size 432x288 with 1 Axes>"
      ]
     },
     "metadata": {
      "needs_background": "light"
     },
     "output_type": "display_data"
    }
   ],
   "source": [
    "# Checando a homogeneidade dentro do cluster\n",
    "pylab.rcParams['figure.figsize'] = (6.0, 4.0)\n",
    "\n",
    "# Definindo a massa de dados\n",
    "centers = [[1, 1], [1, -1], [-1, -1], [-1, 1]]\n",
    "#X, y = make_blobs(n_samples = 1000, centers = centers, cluster_std = 0.5, random_state = 101)\n",
    "\n",
    "# Lista com os valores de K\n",
    "valores_k = range(2, 10)\n",
    "\n",
    "# Lista para receber as métricas\n",
    "HCVs = []\n",
    "\n",
    "# Um resultado de cluster satisfaz a homogeneidade se todos os seus clusters contiverem apenas pontos de \n",
    "# dados que são membros de uma única classe.\n",
    "\n",
    "# Um resultado de cluster satisfaz a completude se todos os pontos de dados que são membros \n",
    "# de uma determinada classe são elementos do mesmo cluster.\n",
    "\n",
    "# Ambas as pontuações têm valores positivos entre 0,0 e 1,0, sendo desejáveis valores maiores.\n",
    "\n",
    "# Medida V é a média entre homogeneidade e completude.\n",
    "\n",
    "for K in valores_k:\n",
    "    \n",
    "    # Criando o classificador e fazendo previsões sobre o cluster para cada ponto de dados\n",
    "    y_pred = KMeans(n_clusters = K, random_state = 101).fit_predict(X)\n",
    "    \n",
    "    # Calculando as métricas\n",
    "    HCVs.append(homogeneity_completeness_v_measure(y, y_pred))\n",
    "\n",
    "plt.plot(valores_k, [el[0] for el in HCVs], 'b', label = 'Homogeneidade')\n",
    "plt.plot(valores_k, [el[1] for el in HCVs], 'g', label = 'Completude')\n",
    "plt.plot(valores_k, [el[2] for el in HCVs], 'r', label = 'Medida V')\n",
    "plt.ylim([0, 1])\n",
    "plt.xlabel(\"Valor de K\")\n",
    "plt.ylabel(\"Score\")\n",
    "plt.legend(loc = 4)\n",
    "plt.show()"
   ]
  },
  {
   "cell_type": "code",
   "execution_count": null,
   "metadata": {},
   "outputs": [],
   "source": []
  }
 ],
 "metadata": {
  "kernelspec": {
   "display_name": "Python 3",
   "language": "python",
   "name": "python3"
  },
  "language_info": {
   "codemirror_mode": {
    "name": "ipython",
    "version": 3
   },
   "file_extension": ".py",
   "mimetype": "text/x-python",
   "name": "python",
   "nbconvert_exporter": "python",
   "pygments_lexer": "ipython3",
   "version": "3.6.5"
  }
 },
 "nbformat": 4,
 "nbformat_minor": 4
}
